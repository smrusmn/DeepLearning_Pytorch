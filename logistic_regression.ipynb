{
 "cells": [
  {
   "cell_type": "code",
   "execution_count": 57,
   "metadata": {},
   "outputs": [],
   "source": [
    "import torch\n",
    "import torchvision\n",
    "from torchvision.datasets import MNIST\n",
    "from torchvision import transforms"
   ]
  },
  {
   "cell_type": "code",
   "execution_count": 58,
   "metadata": {},
   "outputs": [],
   "source": [
    "# dataset = MNIST(root='data/',download=True)"
   ]
  },
  {
   "cell_type": "code",
   "execution_count": 59,
   "metadata": {},
   "outputs": [],
   "source": [
    "dataset=MNIST(root='data/',train=True)"
   ]
  },
  {
   "cell_type": "code",
   "execution_count": 60,
   "metadata": {},
   "outputs": [
    {
     "data": {
      "text/plain": [
       "60000"
      ]
     },
     "execution_count": 60,
     "metadata": {},
     "output_type": "execute_result"
    }
   ],
   "source": [
    "len(dataset)"
   ]
  },
  {
   "cell_type": "code",
   "execution_count": 61,
   "metadata": {},
   "outputs": [
    {
     "data": {
      "text/plain": [
       "10000"
      ]
     },
     "execution_count": 61,
     "metadata": {},
     "output_type": "execute_result"
    }
   ],
   "source": [
    "test_dataset = MNIST(root='data/',train=False)\n",
    "len(test_dataset)"
   ]
  },
  {
   "cell_type": "code",
   "execution_count": 62,
   "metadata": {},
   "outputs": [
    {
     "data": {
      "text/plain": [
       "(<PIL.Image.Image image mode=L size=28x28>, 5)"
      ]
     },
     "execution_count": 62,
     "metadata": {},
     "output_type": "execute_result"
    }
   ],
   "source": [
    "dataset[0]"
   ]
  },
  {
   "cell_type": "code",
   "execution_count": 63,
   "metadata": {},
   "outputs": [],
   "source": [
    "import matplotlib.pyplot as plt\n",
    "%matplotlib inline"
   ]
  },
  {
   "cell_type": "code",
   "execution_count": 64,
   "metadata": {},
   "outputs": [
    {
     "name": "stdout",
     "output_type": "stream",
     "text": [
      "5\n"
     ]
    },
    {
     "data": {
      "image/png": "[encoded data removed]",
      "text/plain": [
       "<Figure size 640x480 with 1 Axes>"
      ]
     },
     "metadata": {},
     "output_type": "display_data"
    }
   ],
   "source": [
    "image,label = dataset[0]\n",
    "plt.imshow(image, cmap='gray')\n",
    "print(label)"
   ]
  },
  {
   "cell_type": "code",
   "execution_count": 65,
   "metadata": {},
   "outputs": [
    {
     "name": "stdout",
     "output_type": "stream",
     "text": [
      "0\n"
     ]
    },
    {
     "data": {
      "image/png": "[encoded data removed]",
      "text/plain": [
       "<Figure size 640x480 with 1 Axes>"
      ]
     },
     "metadata": {},
     "output_type": "display_data"
    }
   ],
   "source": [
    "image,label = dataset[1]\n",
    "plt.imshow(image, cmap='gray')\n",
    "print(label)"
   ]
  },
  {
   "cell_type": "code",
   "execution_count": 66,
   "metadata": {},
   "outputs": [],
   "source": [
    "dataset = MNIST(root = 'data/',train = True, transform=transforms.ToTensor())"
   ]
  },
  {
   "cell_type": "code",
   "execution_count": 67,
   "metadata": {},
   "outputs": [
    {
     "name": "stdout",
     "output_type": "stream",
     "text": [
      "torch.Size([1, 28, 28]) 5\n"
     ]
    }
   ],
   "source": [
    "image_tensor,label = dataset[0]\n",
    "print(image_tensor.shape,label)\n"
   ]
  },
  {
   "cell_type": "code",
   "execution_count": 68,
   "metadata": {},
   "outputs": [
    {
     "name": "stdout",
     "output_type": "stream",
     "text": [
      "tensor([[0.0039, 0.6039, 0.9922, 0.3529, 0.0000],\n",
      "        [0.0000, 0.5451, 0.9922, 0.7451, 0.0078],\n",
      "        [0.0000, 0.0431, 0.7451, 0.9922, 0.2745],\n",
      "        [0.0000, 0.0000, 0.1373, 0.9451, 0.8824],\n",
      "        [0.0000, 0.0000, 0.0000, 0.3176, 0.9412]])\n",
      "tensor(1.) tensor(0.)\n"
     ]
    }
   ],
   "source": [
    "print(image_tensor[0,10:15,10:15])\n",
    "print(torch.max(image_tensor), torch.min(image_tensor))"
   ]
  },
  {
   "cell_type": "code",
   "execution_count": 69,
   "metadata": {},
   "outputs": [
    {
     "data": {
      "text/plain": [
       "<matplotlib.image.AxesImage at 0x2a9a63bcd00>"
      ]
     },
     "execution_count": 69,
     "metadata": {},
     "output_type": "execute_result"
    },
    {
     "data": {
      "image/png": "[encoded data removed]",
      "text/plain": [
       "<Figure size 640x480 with 1 Axes>"
      ]
     },
     "metadata": {},
     "output_type": "display_data"
    }
   ],
   "source": [
    "plt.imshow(image_tensor[0,10:15,10:15],cmap='gray')\n"
   ]
  },
  {
   "cell_type": "code",
   "execution_count": 70,
   "metadata": {},
   "outputs": [
    {
     "data": {
      "text/plain": [
       "(50000, 10000)"
      ]
     },
     "execution_count": 70,
     "metadata": {},
     "output_type": "execute_result"
    }
   ],
   "source": [
    "from torch.utils.data import random_split\n",
    "train_ds, val_ds = random_split(dataset, [50000,10000])\n",
    "len(train_ds), len(val_ds)"
   ]
  },
  {
   "cell_type": "code",
   "execution_count": 71,
   "metadata": {},
   "outputs": [],
   "source": [
    "from torch.utils.data import DataLoader\n",
    "batch_size = 128\n",
    "train_loader = DataLoader(train_ds, batch_size,shuffle=True)\n",
    "val_loader = DataLoader(val_ds,batch_size)"
   ]
  },
  {
   "cell_type": "code",
   "execution_count": 72,
   "metadata": {},
   "outputs": [],
   "source": [
    "import torch.nn as nn \n",
    "input_size = 28*28\n",
    "num_classes = 10\n",
    "\n",
    "model = nn.Linear(input_size,num_classes)"
   ]
  },
  {
   "cell_type": "code",
   "execution_count": 73,
   "metadata": {},
   "outputs": [
    {
     "name": "stdout",
     "output_type": "stream",
     "text": [
      "torch.Size([10, 784]) torch.Size([10])\n"
     ]
    }
   ],
   "source": [
    "print(model.weight.shape, model.bias.shape)\n"
   ]
  },
  {
   "cell_type": "code",
   "execution_count": 74,
   "metadata": {},
   "outputs": [
    {
     "data": {
      "text/plain": [
       "Parameter containing:\n",
       "tensor([[ 0.0340, -0.0331,  0.0356,  ..., -0.0341, -0.0046,  0.0257],\n",
       "        [ 0.0148, -0.0146, -0.0288,  ..., -0.0289,  0.0318, -0.0268],\n",
       "        [-0.0353,  0.0221, -0.0018,  ..., -0.0224,  0.0169,  0.0098],\n",
       "        ...,\n",
       "        [ 0.0110, -0.0057,  0.0157,  ..., -0.0003,  0.0160, -0.0176],\n",
       "        [-0.0161,  0.0132,  0.0034,  ..., -0.0202,  0.0009,  0.0269],\n",
       "        [-0.0320, -0.0245,  0.0166,  ...,  0.0043, -0.0052,  0.0258]],\n",
       "       requires_grad=True)"
      ]
     },
     "execution_count": 74,
     "metadata": {},
     "output_type": "execute_result"
    }
   ],
   "source": [
    "model.weight"
   ]
  },
  {
   "cell_type": "code",
   "execution_count": 75,
   "metadata": {},
   "outputs": [
    {
     "data": {
      "text/plain": [
       "Parameter containing:\n",
       "tensor([-0.0099,  0.0281,  0.0078,  0.0023, -0.0122, -0.0240, -0.0013,  0.0268,\n",
       "        -0.0169, -0.0249], requires_grad=True)"
      ]
     },
     "execution_count": 75,
     "metadata": {},
     "output_type": "execute_result"
    }
   ],
   "source": [
    "model.bias"
   ]
  },
  {
   "cell_type": "code",
   "execution_count": 76,
   "metadata": {},
   "outputs": [
    {
     "name": "stdout",
     "output_type": "stream",
     "text": [
      "tensor([9, 1, 6, 9, 5, 4, 9, 0, 9, 6, 3, 2, 5, 8, 1, 7, 3, 2, 3, 8, 0, 3, 3, 0,\n",
      "        0, 8, 9, 8, 9, 9, 9, 8, 9, 2, 7, 6, 7, 0, 0, 4, 0, 9, 9, 9, 7, 2, 6, 6,\n",
      "        3, 1, 5, 8, 8, 1, 4, 2, 6, 4, 1, 0, 7, 8, 3, 8, 7, 9, 0, 5, 4, 4, 3, 6,\n",
      "        7, 7, 2, 1, 5, 6, 3, 4, 5, 8, 9, 4, 0, 9, 8, 8, 1, 0, 7, 8, 6, 8, 2, 1,\n",
      "        1, 3, 3, 3, 0, 1, 6, 1, 7, 8, 2, 0, 8, 6, 6, 5, 4, 0, 8, 3, 2, 7, 0, 6,\n",
      "        3, 7, 8, 9, 7, 6, 0, 9])\n",
      "torch.Size([128, 1, 28, 28])\n"
     ]
    },
    {
     "ename": "RuntimeError",
     "evalue": "mat1 and mat2 shapes cannot be multiplied (3584x28 and 784x10)",
     "output_type": "error",
     "traceback": [
      "\u001b[1;31m---------------------------------------------------------------------------\u001b[0m",
      "\u001b[1;31mRuntimeError\u001b[0m                              Traceback (most recent call last)",
      "Cell \u001b[1;32mIn[76], line 4\u001b[0m\n\u001b[0;32m      2\u001b[0m \u001b[38;5;28mprint\u001b[39m(labels)\n\u001b[0;32m      3\u001b[0m \u001b[38;5;28mprint\u001b[39m(images\u001b[38;5;241m.\u001b[39mshape)\n\u001b[1;32m----> 4\u001b[0m outputs \u001b[38;5;241m=\u001b[39m \u001b[43mmodel\u001b[49m\u001b[43m(\u001b[49m\u001b[43mimages\u001b[49m\u001b[43m)\u001b[49m\n\u001b[0;32m      5\u001b[0m \u001b[38;5;28mprint\u001b[39m(outputs)\n\u001b[0;32m      6\u001b[0m \u001b[38;5;28;01mbreak\u001b[39;00m\n",
      "File \u001b[1;32mc:\\Users\\Qadri\\AppData\\Local\\Programs\\Python\\Python310\\lib\\site-packages\\torch\\nn\\modules\\module.py:1501\u001b[0m, in \u001b[0;36mModule._call_impl\u001b[1;34m(self, *args, **kwargs)\u001b[0m\n\u001b[0;32m   1496\u001b[0m \u001b[38;5;66;03m# If we don't have any hooks, we want to skip the rest of the logic in\u001b[39;00m\n\u001b[0;32m   1497\u001b[0m \u001b[38;5;66;03m# this function, and just call forward.\u001b[39;00m\n\u001b[0;32m   1498\u001b[0m \u001b[38;5;28;01mif\u001b[39;00m \u001b[38;5;129;01mnot\u001b[39;00m (\u001b[38;5;28mself\u001b[39m\u001b[38;5;241m.\u001b[39m_backward_hooks \u001b[38;5;129;01mor\u001b[39;00m \u001b[38;5;28mself\u001b[39m\u001b[38;5;241m.\u001b[39m_backward_pre_hooks \u001b[38;5;129;01mor\u001b[39;00m \u001b[38;5;28mself\u001b[39m\u001b[38;5;241m.\u001b[39m_forward_hooks \u001b[38;5;129;01mor\u001b[39;00m \u001b[38;5;28mself\u001b[39m\u001b[38;5;241m.\u001b[39m_forward_pre_hooks\n\u001b[0;32m   1499\u001b[0m         \u001b[38;5;129;01mor\u001b[39;00m _global_backward_pre_hooks \u001b[38;5;129;01mor\u001b[39;00m _global_backward_hooks\n\u001b[0;32m   1500\u001b[0m         \u001b[38;5;129;01mor\u001b[39;00m _global_forward_hooks \u001b[38;5;129;01mor\u001b[39;00m _global_forward_pre_hooks):\n\u001b[1;32m-> 1501\u001b[0m     \u001b[38;5;28;01mreturn\u001b[39;00m forward_call(\u001b[38;5;241m*\u001b[39margs, \u001b[38;5;241m*\u001b[39m\u001b[38;5;241m*\u001b[39mkwargs)\n\u001b[0;32m   1502\u001b[0m \u001b[38;5;66;03m# Do not call functions when jit is used\u001b[39;00m\n\u001b[0;32m   1503\u001b[0m full_backward_hooks, non_full_backward_hooks \u001b[38;5;241m=\u001b[39m [], []\n",
      "File \u001b[1;32mc:\\Users\\Qadri\\AppData\\Local\\Programs\\Python\\Python310\\lib\\site-packages\\torch\\nn\\modules\\linear.py:114\u001b[0m, in \u001b[0;36mLinear.forward\u001b[1;34m(self, input)\u001b[0m\n\u001b[0;32m    113\u001b[0m \u001b[38;5;28;01mdef\u001b[39;00m \u001b[38;5;21mforward\u001b[39m(\u001b[38;5;28mself\u001b[39m, \u001b[38;5;28minput\u001b[39m: Tensor) \u001b[38;5;241m-\u001b[39m\u001b[38;5;241m>\u001b[39m Tensor:\n\u001b[1;32m--> 114\u001b[0m     \u001b[38;5;28;01mreturn\u001b[39;00m \u001b[43mF\u001b[49m\u001b[38;5;241;43m.\u001b[39;49m\u001b[43mlinear\u001b[49m\u001b[43m(\u001b[49m\u001b[38;5;28;43minput\u001b[39;49m\u001b[43m,\u001b[49m\u001b[43m \u001b[49m\u001b[38;5;28;43mself\u001b[39;49m\u001b[38;5;241;43m.\u001b[39;49m\u001b[43mweight\u001b[49m\u001b[43m,\u001b[49m\u001b[43m \u001b[49m\u001b[38;5;28;43mself\u001b[39;49m\u001b[38;5;241;43m.\u001b[39;49m\u001b[43mbias\u001b[49m\u001b[43m)\u001b[49m\n",
      "\u001b[1;31mRuntimeError\u001b[0m: mat1 and mat2 shapes cannot be multiplied (3584x28 and 784x10)"
     ]
    }
   ],
   "source": [
    "for images,labels in train_loader:\n",
    "    print(labels)\n",
    "    print(images.shape)\n",
    "    outputs = model(images)\n",
    "    print(outputs)\n",
    "    break"
   ]
  },
  {
   "cell_type": "code",
   "execution_count": null,
   "metadata": {},
   "outputs": [],
   "source": [
    "class MnistModel(nn.Module):\n",
    "    def __init__(self):\n",
    "        super().__init__()\n",
    "        self.linear = nn.Linear(input_size,num_classes)\n",
    "    \n",
    "    def forward(self,xb):\n",
    "        xb = xb.reshape(-1,784)\n",
    "        out = self.linear(xb)\n",
    "        return out\n",
    "model = MnistModel()"
   ]
  },
  {
   "cell_type": "code",
   "execution_count": null,
   "metadata": {},
   "outputs": [
    {
     "data": {
      "text/plain": [
       "Linear(in_features=784, out_features=10, bias=True)"
      ]
     },
     "execution_count": 65,
     "metadata": {},
     "output_type": "execute_result"
    }
   ],
   "source": [
    "model.linear"
   ]
  },
  {
   "cell_type": "code",
   "execution_count": null,
   "metadata": {},
   "outputs": [
    {
     "data": {
      "text/plain": [
       "(torch.Size([10, 784]), torch.Size([10]))"
      ]
     },
     "execution_count": 68,
     "metadata": {},
     "output_type": "execute_result"
    }
   ],
   "source": [
    "model.linear.weight.shape,model.linear.bias.shape"
   ]
  },
  {
   "cell_type": "code",
   "execution_count": null,
   "metadata": {},
   "outputs": [
    {
     "data": {
      "text/plain": [
       "[Parameter containing:\n",
       " tensor([[-0.0029,  0.0255, -0.0022,  ...,  0.0260,  0.0292,  0.0056],\n",
       "         [-0.0200, -0.0184, -0.0251,  ...,  0.0298, -0.0312, -0.0180],\n",
       "         [ 0.0219,  0.0194, -0.0227,  ..., -0.0221,  0.0195,  0.0309],\n",
       "         ...,\n",
       "         [ 0.0270,  0.0166,  0.0090,  ..., -0.0318, -0.0257, -0.0109],\n",
       "         [ 0.0010, -0.0210, -0.0282,  ..., -0.0024,  0.0272, -0.0085],\n",
       "         [ 0.0108, -0.0335, -0.0207,  ..., -0.0194, -0.0085, -0.0342]],\n",
       "        requires_grad=True),\n",
       " Parameter containing:\n",
       " tensor([ 0.0069,  0.0163,  0.0144,  0.0166, -0.0357,  0.0187, -0.0256,  0.0306,\n",
       "         -0.0271, -0.0059], requires_grad=True)]"
      ]
     },
     "execution_count": 73,
     "metadata": {},
     "output_type": "execute_result"
    }
   ],
   "source": [
    "list(model.parameters())"
   ]
  },
  {
   "cell_type": "code",
   "execution_count": null,
   "metadata": {},
   "outputs": [
    {
     "name": "stdout",
     "output_type": "stream",
     "text": [
      "torch.Size([128, 1, 28, 28])\n",
      "output shape is: torch.Size([128, 10])\n",
      "sample outputs: tensor([[ 0.2234,  0.3574,  0.3455, -0.0202, -0.1115,  0.0872,  0.0972, -0.1771,\n",
      "          0.0708,  0.2447],\n",
      "        [-0.0608,  0.4609,  0.1840,  0.0537, -0.0370, -0.3621,  0.3088,  0.0186,\n",
      "         -0.2832,  0.0503]])\n"
     ]
    }
   ],
   "source": [
    "for images,labels in train_loader:\n",
    "    print(images.shape)\n",
    "    outputs = model(images)\n",
    "    break\n",
    "print(f'output shape is: {outputs.shape}')    \n",
    "print(f'sample outputs: {outputs[:2].data}')    "
   ]
  },
  {
   "cell_type": "code",
   "execution_count": null,
   "metadata": {},
   "outputs": [],
   "source": [
    "import torch.nn.functional as F"
   ]
  },
  {
   "cell_type": "code",
   "execution_count": null,
   "metadata": {},
   "outputs": [
    {
     "data": {
      "text/plain": [
       "tensor([[ 0.2234,  0.3574,  0.3455, -0.0202, -0.1115,  0.0872,  0.0972, -0.1771,\n",
       "          0.0708,  0.2447],\n",
       "        [-0.0608,  0.4609,  0.1840,  0.0537, -0.0370, -0.3621,  0.3088,  0.0186,\n",
       "         -0.2832,  0.0503],\n",
       "        [ 0.2776,  0.4700,  0.4433,  0.2287,  0.1076,  0.0897,  0.4475, -0.2185,\n",
       "         -0.2447,  0.2440],\n",
       "        [ 0.2975,  0.3295,  0.2710,  0.1127, -0.0209, -0.1682,  0.0389, -0.2088,\n",
       "         -0.2024, -0.0184],\n",
       "        [ 0.2969,  0.3421,  0.1362,  0.2849, -0.0840,  0.1862,  0.1396, -0.1126,\n",
       "         -0.0024,  0.1822]], grad_fn=<SliceBackward0>)"
      ]
     },
     "execution_count": 78,
     "metadata": {},
     "output_type": "execute_result"
    }
   ],
   "source": [
    "outputs[:5\n",
    "        ]"
   ]
  },
  {
   "cell_type": "code",
   "execution_count": null,
   "metadata": {},
   "outputs": [
    {
     "data": {
      "text/plain": [
       "tensor([[0.1102, 0.1260, 0.1245, 0.0864, 0.0788, 0.0961, 0.0971, 0.0738, 0.0946,\n",
       "         0.1126],\n",
       "        [0.0885, 0.1492, 0.1131, 0.0993, 0.0907, 0.0655, 0.1281, 0.0958, 0.0709,\n",
       "         0.0989],\n",
       "        [0.1067, 0.1294, 0.1259, 0.1016, 0.0900, 0.0884, 0.1265, 0.0650, 0.0633,\n",
       "         0.1032],\n",
       "        [0.1265, 0.1306, 0.1232, 0.1052, 0.0920, 0.0794, 0.0977, 0.0763, 0.0768,\n",
       "         0.0923],\n",
       "        [0.1161, 0.1214, 0.0988, 0.1147, 0.0793, 0.1039, 0.0992, 0.0771, 0.0860,\n",
       "         0.1035]], grad_fn=<SliceBackward0>)"
      ]
     },
     "execution_count": 79,
     "metadata": {},
     "output_type": "execute_result"
    }
   ],
   "source": [
    "probs = F.softmax(outputs,dim=1)\n",
    "probs[:5]"
   ]
  },
  {
   "cell_type": "code",
   "execution_count": null,
   "metadata": {},
   "outputs": [
    {
     "data": {
      "text/plain": [
       "(tensor([1, 1, 1, 1, 1, 2, 1, 6, 1, 1, 1, 1, 2, 6, 1, 1, 2, 2, 0, 0, 2, 9, 9, 1,\n",
       "         6, 9, 6, 2, 1, 1, 6, 1, 0, 1, 1, 6, 1, 2, 6, 2, 6, 1, 1, 1, 6, 2, 1, 2,\n",
       "         1, 1, 2, 2, 1, 6, 9, 6, 6, 1, 2, 2, 3, 9, 0, 1, 1, 0, 1, 2, 9, 2, 2, 9,\n",
       "         1, 0, 2, 1, 1, 9, 1, 2, 1, 2, 2, 1, 1, 2, 1, 1, 2, 2, 2, 2, 1, 6, 2, 9,\n",
       "         2, 1, 2, 2, 6, 1, 2, 1, 1, 2, 2, 1, 9, 1, 0, 2, 1, 1, 1, 1, 5, 1, 6, 2,\n",
       "         6, 2, 2, 2, 2, 2, 2, 6]),\n",
       " tensor([0.1260, 0.1492, 0.1294, 0.1306, 0.1214, 0.1640, 0.1246, 0.1294, 0.1166,\n",
       "         0.1183, 0.1427, 0.1468, 0.1487, 0.1224, 0.1446, 0.1458, 0.1337, 0.1307,\n",
       "         0.1212, 0.1306, 0.1252, 0.1347, 0.1574, 0.1355, 0.1312, 0.1419, 0.1298,\n",
       "         0.1246, 0.1228, 0.1191, 0.1309, 0.1414, 0.1347, 0.1348, 0.1259, 0.1238,\n",
       "         0.1744, 0.1779, 0.1208, 0.1479, 0.1418, 0.1270, 0.1441, 0.1290, 0.1441,\n",
       "         0.1550, 0.1650, 0.1249, 0.1373, 0.1581, 0.1160, 0.1470, 0.1193, 0.1108,\n",
       "         0.1269, 0.1531, 0.1195, 0.1411, 0.1302, 0.1555, 0.1214, 0.1311, 0.1183,\n",
       "         0.1454, 0.1248, 0.1404, 0.1247, 0.1319, 0.1451, 0.1446, 0.1406, 0.1364,\n",
       "         0.1243, 0.1193, 0.1325, 0.1434, 0.1206, 0.1336, 0.1361, 0.1585, 0.1338,\n",
       "         0.1240, 0.1706, 0.1306, 0.1260, 0.1282, 0.1302, 0.1281, 0.1576, 0.1345,\n",
       "         0.1336, 0.1628, 0.1604, 0.1483, 0.1351, 0.1381, 0.1278, 0.1384, 0.1300,\n",
       "         0.1504, 0.1319, 0.1209, 0.1245, 0.1177, 0.1331, 0.1322, 0.1159, 0.1473,\n",
       "         0.1241, 0.1200, 0.1269, 0.1345, 0.1280, 0.1285, 0.1594, 0.1182, 0.1136,\n",
       "         0.1263, 0.1285, 0.1279, 0.1293, 0.1406, 0.1665, 0.1728, 0.1798, 0.1454,\n",
       "         0.1397, 0.1216], grad_fn=<MaxBackward0>))"
      ]
     },
     "execution_count": 80,
     "metadata": {},
     "output_type": "execute_result"
    }
   ],
   "source": [
    "max_probs,preds = torch.max(probs,dim=1)\n",
    "preds,max_probs"
   ]
  },
  {
   "cell_type": "code",
   "execution_count": null,
   "metadata": {},
   "outputs": [
    {
     "data": {
      "text/plain": [
       "tensor(10)"
      ]
     },
     "execution_count": 81,
     "metadata": {},
     "output_type": "execute_result"
    }
   ],
   "source": [
    "torch.sum(labels==preds)"
   ]
  },
  {
   "cell_type": "code",
   "execution_count": null,
   "metadata": {},
   "outputs": [],
   "source": [
    "def accuracy(outputs,labels):\n",
    "    _,preds = torch.max(outputs,dim=1)\n",
    "    return torch.tensor(torch.sum(preds==labels).item()/len(preds))"
   ]
  },
  {
   "cell_type": "code",
   "execution_count": null,
   "metadata": {},
   "outputs": [
    {
     "data": {
      "text/plain": [
       "tensor(0.0781)"
      ]
     },
     "execution_count": 83,
     "metadata": {},
     "output_type": "execute_result"
    }
   ],
   "source": [
    "accuracy(outputs,labels)"
   ]
  },
  {
   "cell_type": "code",
   "execution_count": null,
   "metadata": {},
   "outputs": [],
   "source": [
    "loss_fn = F.cross_entropy"
   ]
  },
  {
   "cell_type": "code",
   "execution_count": null,
   "metadata": {},
   "outputs": [
    {
     "name": "stdout",
     "output_type": "stream",
     "text": [
      "tensor(2.3416, grad_fn=<NllLossBackward0>)\n"
     ]
    }
   ],
   "source": [
    "loss = loss_fn(outputs,labels)\n",
    "print(loss)"
   ]
  },
  {
   "cell_type": "code",
   "execution_count": null,
   "metadata": {},
   "outputs": [],
   "source": [
    "# def fit(epochs, lr, model, train_loader, val_loader, opt_func=torch.optim.SGD):\n",
    "#     optimizer = opt_func(model.parameters(), lr)\n",
    "#     history = [] # for recording epoch-wise results\n",
    "    \n",
    "#     for epoch in range(epochs):\n",
    "        \n",
    "#         # Training Phase \n",
    "#         for batch in train_loader:\n",
    "#             loss = model.training_step(batch)\n",
    "#             loss.backward()\n",
    "#             optimizer.step()\n",
    "#             optimizer.zero_grad()\n",
    "        \n",
    "#         # Validation phase\n",
    "#         result = evaluate(model, val_loader)\n",
    "#         model.epoch_end(epoch, result)\n",
    "#         history.append(result)\n",
    "\n",
    "#     return history\n",
    "\n",
    "# def evaluate(model, val_loader):\n",
    "#     outputs = [model.validation_step(batch) for batch in val_loader]\n",
    "#     return model.validation_epoch_end(outputs)\n",
    "\n",
    "# class MnistModel(nn.Module):\n",
    "#     def __init__(self):\n",
    "#         super().__init__()\n",
    "#         self.linear = nn.Linear(input_size, num_classes)\n",
    "        \n",
    "#     def forward(self, xb):\n",
    "#         xb = xb.reshape(-1, 784)\n",
    "#         out = self.linear(xb)\n",
    "#         return out\n",
    "    \n",
    "#     def training_step(self, batch):\n",
    "#         images, labels = batch \n",
    "#         out = self(images)                  # Generate predictions\n",
    "#         loss = F.cross_entropy(out, labels) # Calculate loss\n",
    "#         return loss\n",
    "    \n",
    "#     def validation_step(self, batch):\n",
    "#         images, labels = batch \n",
    "#         out = self(images)                    # Generate predictions\n",
    "#         loss = F.cross_entropy(out, labels)   # Calculate loss\n",
    "#         acc = accuracy(out, labels)           # Calculate accuracy\n",
    "#         return {'val_loss': loss, 'val_acc': acc}\n",
    "        \n",
    "#     def validation_epoch_end(self, outputs):\n",
    "#         batch_losses = [x['val_loss'] for x in outputs]\n",
    "#         epoch_loss = torch.stack(batch_losses).mean()   # Combine losses\n",
    "#         batch_accs = [x['val_acc'] for x in outputs]\n",
    "#         epoch_acc = torch.stack(batch_accs).mean()      # Combine accuracies\n",
    "#         return {'val_loss': epoch_loss.item(), 'val_acc': epoch_acc.item()}\n",
    "    \n",
    "#     def epoch_end(self, epoch, result):\n",
    "#         print(\"Epoch [{}], val_loss: {:.4f}, val_acc: {:.4f}\".format(epoch, result['val_loss'], result['val_acc']))\n",
    "    \n",
    "# model = MnistModel()"
   ]
  },
  {
   "cell_type": "code",
   "execution_count": null,
   "metadata": {},
   "outputs": [
    {
     "data": {
      "text/plain": [
       "{'val_loss': 2.335644006729126, 'val_acc': 0.10818829387426376}"
      ]
     },
     "execution_count": 100,
     "metadata": {},
     "output_type": "execute_result"
    }
   ],
   "source": [
    "result0 = evaluate(model, val_loader)\n",
    "result0"
   ]
  },
  {
   "cell_type": "code",
   "execution_count": null,
   "metadata": {},
   "outputs": [],
   "source": [
    "def fit(epochs,lr,model,train_loader,val_loader,opt_func=torch.optim.SGD):\n",
    "    optimizer = opt_func(model.parameters(),lr)\n",
    "    history=[]\n",
    "    \n",
    "    for epoch in range(epochs):\n",
    "        \n",
    "        for batch in train_loader:\n",
    "            loss = model.training_step(batch)\n",
    "            loss.backward()\n",
    "            optimizer.step()\n",
    "            optimizer.zero_grad()\n",
    "            \n",
    "        result = evaluate(model,val_loader)\n",
    "        model.epoch_end(epoch,result)\n",
    "        history.append(result)\n",
    "    \n",
    "    return history"
   ]
  },
  {
   "cell_type": "code",
   "execution_count": null,
   "metadata": {},
   "outputs": [],
   "source": [
    "def evaluate(model,val_loader):\n",
    "    outputs = [model.validation_step(batch) for batch in val_loader]\n",
    "    return model.validation_epoch_end(outputs)\n"
   ]
  },
  {
   "cell_type": "code",
   "execution_count": null,
   "metadata": {},
   "outputs": [],
   "source": [
    "class MnistModel(nn.Module):\n",
    "    def __init__(self):\n",
    "        super().__init__()\n",
    "        self.linear = nn.Linear(input_size,num_classes)\n",
    "        \n",
    "    def forward(self,xb):\n",
    "        xb = xb.reshape(-1,784)\n",
    "        out = self.linear(xb)\n",
    "        return out\n",
    "    \n",
    "    def training_step(self,batch):\n",
    "        images,labels = batch\n",
    "        out = self(images)\n",
    "        loss = F.cross_entropy(out,labels)\n",
    "        return loss\n",
    "    \n",
    "    def validation_step(self,batch):\n",
    "        images,labels = batch\n",
    "        out = self(images)\n",
    "        loss = F.cross_entropy(out,labels)\n",
    "        acc = accuracy(out,labels)\n",
    "        return{'val_loss':loss,'val_acc':acc}\n",
    "    def validation_epoch_end(self,outputs):\n",
    "        batch_losses = [x['val_loss'] for x in outputs]\n",
    "        epoch_loss = torch.stack(batch_losses).mean()\n",
    "        batch_accs = [x['val_acc'] for x in outputs]\n",
    "        epoch_acc = torch.stack(batch_accs).mean()\n",
    "        return{'val_loss':epoch_loss.item(), 'val_acc':epoch_acc.item()}\n",
    "    \n",
    "    def epoch_end(self,epoch,result):\n",
    "         print(\"Epoch [{}], val_loss: {:.4f}, val_acc: {:.4f}\".format(epoch, result['val_loss'], result['val_acc']))\n",
    "         \n",
    "model = MnistModel()"
   ]
  },
  {
   "cell_type": "code",
   "execution_count": null,
   "metadata": {},
   "outputs": [
    {
     "data": {
      "text/plain": [
       "{'val_loss': 2.3615143299102783, 'val_acc': 0.10007911175489426}"
      ]
     },
     "execution_count": 128,
     "metadata": {},
     "output_type": "execute_result"
    }
   ],
   "source": [
    "result0 = evaluate(model,val_loader)\n",
    "result0"
   ]
  },
  {
   "cell_type": "code",
   "execution_count": null,
   "metadata": {},
   "outputs": [
    {
     "name": "stdout",
     "output_type": "stream",
     "text": [
      "Epoch [0], val_loss: 1.9752, val_acc: 0.5889\n",
      "Epoch [1], val_loss: 1.6982, val_acc: 0.7297\n",
      "Epoch [2], val_loss: 1.4919, val_acc: 0.7668\n",
      "Epoch [3], val_loss: 1.3366, val_acc: 0.7843\n",
      "Epoch [4], val_loss: 1.2176, val_acc: 0.7973\n"
     ]
    }
   ],
   "source": [
    "history1 = fit(5, 0.001, model, train_loader, val_loader)"
   ]
  },
  {
   "cell_type": "code",
   "execution_count": null,
   "metadata": {},
   "outputs": [
    {
     "name": "stdout",
     "output_type": "stream",
     "text": [
      "Epoch [0], val_loss: 1.1243, val_acc: 0.8076\n",
      "Epoch [1], val_loss: 1.0496, val_acc: 0.8159\n",
      "Epoch [2], val_loss: 0.9886, val_acc: 0.8197\n",
      "Epoch [3], val_loss: 0.9380, val_acc: 0.8266\n",
      "Epoch [4], val_loss: 0.8952, val_acc: 0.8297\n"
     ]
    }
   ],
   "source": [
    "history2 = fit(5,00.001,model,train_loader,val_loader)"
   ]
  },
  {
   "cell_type": "code",
   "execution_count": null,
   "metadata": {},
   "outputs": [
    {
     "name": "stdout",
     "output_type": "stream",
     "text": [
      "Epoch [0], val_loss: 0.8587, val_acc: 0.8345\n",
      "Epoch [1], val_loss: 0.8270, val_acc: 0.8378\n",
      "Epoch [2], val_loss: 0.7994, val_acc: 0.8388\n",
      "Epoch [3], val_loss: 0.7749, val_acc: 0.8424\n",
      "Epoch [4], val_loss: 0.7532, val_acc: 0.8437\n"
     ]
    }
   ],
   "source": [
    "history3 = fit(5,00.001,model,train_loader,val_loader)"
   ]
  },
  {
   "cell_type": "code",
   "execution_count": null,
   "metadata": {},
   "outputs": [
    {
     "name": "stdout",
     "output_type": "stream",
     "text": [
      "Epoch [0], val_loss: 0.7337, val_acc: 0.8458\n",
      "Epoch [1], val_loss: 0.7162, val_acc: 0.8483\n",
      "Epoch [2], val_loss: 0.7003, val_acc: 0.8497\n",
      "Epoch [3], val_loss: 0.6857, val_acc: 0.8519\n",
      "Epoch [4], val_loss: 0.6724, val_acc: 0.8531\n"
     ]
    }
   ],
   "source": [
    "history4 = fit(5,00.001,model,train_loader,val_loader)"
   ]
  },
  {
   "cell_type": "code",
   "execution_count": null,
   "metadata": {},
   "outputs": [
    {
     "name": "stdout",
     "output_type": "stream",
     "text": [
      "Epoch [0], val_loss: 0.6712, val_acc: 0.8532\n",
      "Epoch [1], val_loss: 0.6699, val_acc: 0.8536\n",
      "Epoch [2], val_loss: 0.6687, val_acc: 0.8541\n",
      "Epoch [3], val_loss: 0.6674, val_acc: 0.8543\n",
      "Epoch [4], val_loss: 0.6662, val_acc: 0.8543\n",
      "Epoch [5], val_loss: 0.6650, val_acc: 0.8545\n",
      "Epoch [6], val_loss: 0.6638, val_acc: 0.8545\n",
      "Epoch [7], val_loss: 0.6626, val_acc: 0.8548\n",
      "Epoch [8], val_loss: 0.6614, val_acc: 0.8549\n",
      "Epoch [9], val_loss: 0.6602, val_acc: 0.8551\n"
     ]
    }
   ],
   "source": [
    "history5 = fit(10,00.0001,model,train_loader,val_loader)"
   ]
  },
  {
   "cell_type": "code",
   "execution_count": null,
   "metadata": {},
   "outputs": [
    {
     "ename": "SyntaxError",
     "evalue": "non-default argument follows default argument (248429868.py, line 1)",
     "output_type": "error",
     "traceback": [
      "\u001b[1;36m  Cell \u001b[1;32mIn[36], line 1\u001b[1;36m\u001b[0m\n\u001b[1;33m    def fit(model,lr,opt_func=torch.optim.SGD,train_loader,val_loader,epochs):\u001b[0m\n\u001b[1;37m                                              ^\u001b[0m\n\u001b[1;31mSyntaxError\u001b[0m\u001b[1;31m:\u001b[0m non-default argument follows default argument\n"
     ]
    }
   ],
   "source": [
    "def fit(model,lr,opt_func=torch.optim.SGD,train_loader,val_loader,epochs):\n",
    "    optimizer = opt_func(model.parameters(),lr)\n",
    "    history = []\n",
    "    for epoch in range(epochs):\n",
    "        for batch in train_loader:\n",
    "            loss = mdl.train_loss(batch)\n",
    "            loss.backward()\n",
    "            optimizer.step()\n",
    "            optimizer.grad_zero()\n",
    "        result = evaluate1(model,val_loader)\n",
    "        model.epoch_end(epoch,result)\n",
    "        history.append(result)\n",
    "        \n",
    "    return history\n",
    "            "
   ]
  }
 ],
 "metadata": {
  "kernelspec": {
   "display_name": "Python 3",
   "language": "python",
   "name": "python3"
  },
  "language_info": {
   "codemirror_mode": {
    "name": "ipython",
    "version": 3
   },
   "file_extension": ".py",
   "mimetype": "text/x-python",
   "name": "python",
   "nbconvert_exporter": "python",
   "pygments_lexer": "ipython3",
   "version": "3.10.0"
  }
 },
 "nbformat": 4,
 "nbformat_minor": 2
}
