{
 "cells": [
  {
   "cell_type": "code",
   "execution_count": 252,
   "metadata": {},
   "outputs": [],
   "source": [
    "import torch\n",
    "import torchvision\n",
    "import torch.nn as nn\n",
    "import pandas as pd\n",
    "import matplotlib.pyplot as plt\n",
    "import torch.nn.functional as F\n",
    "from torchvision.datasets.utils import download_url\n",
    "from torch.utils.data import DataLoader, TensorDataset, random_split"
   ]
  },
  {
   "cell_type": "code",
   "execution_count": 253,
   "metadata": {},
   "outputs": [],
   "source": [
    "# DATASET_URL = \"https://raw.githubusercontent.com/selva86/datasets/master/BostonHousing.csv\"\n",
    "# DATA_FILENAME = \"BostonHousing.csv\"\n",
    "# TARGET_COLUMN = 'medv'"
   ]
  },
  {
   "cell_type": "code",
   "execution_count": 254,
   "metadata": {},
   "outputs": [
    {
     "data": {
      "text/html": [
       "<div>\n",
       "<style scoped>\n",
       "    .dataframe tbody tr th:only-of-type {\n",
       "        vertical-align: middle;\n",
       "    }\n",
       "\n",
       "    .dataframe tbody tr th {\n",
       "        vertical-align: top;\n",
       "    }\n",
       "\n",
       "    .dataframe thead th {\n",
       "        text-align: right;\n",
       "    }\n",
       "</style>\n",
       "<table border=\"1\" class=\"dataframe\">\n",
       "  <thead>\n",
       "    <tr style=\"text-align: right;\">\n",
       "      <th></th>\n",
       "      <th>crim</th>\n",
       "      <th>zn</th>\n",
       "      <th>indus</th>\n",
       "      <th>chas</th>\n",
       "      <th>nox</th>\n",
       "      <th>rm</th>\n",
       "      <th>age</th>\n",
       "      <th>dis</th>\n",
       "      <th>rad</th>\n",
       "      <th>tax</th>\n",
       "      <th>ptratio</th>\n",
       "      <th>b</th>\n",
       "      <th>lstat</th>\n",
       "      <th>medv</th>\n",
       "    </tr>\n",
       "  </thead>\n",
       "  <tbody>\n",
       "    <tr>\n",
       "      <th>0</th>\n",
       "      <td>0.00632</td>\n",
       "      <td>18.0</td>\n",
       "      <td>2.31</td>\n",
       "      <td>0</td>\n",
       "      <td>0.538</td>\n",
       "      <td>6.575</td>\n",
       "      <td>65.2</td>\n",
       "      <td>4.0900</td>\n",
       "      <td>1</td>\n",
       "      <td>296</td>\n",
       "      <td>15.3</td>\n",
       "      <td>396.90</td>\n",
       "      <td>4.98</td>\n",
       "      <td>24.0</td>\n",
       "    </tr>\n",
       "    <tr>\n",
       "      <th>1</th>\n",
       "      <td>0.02731</td>\n",
       "      <td>0.0</td>\n",
       "      <td>7.07</td>\n",
       "      <td>0</td>\n",
       "      <td>0.469</td>\n",
       "      <td>6.421</td>\n",
       "      <td>78.9</td>\n",
       "      <td>4.9671</td>\n",
       "      <td>2</td>\n",
       "      <td>242</td>\n",
       "      <td>17.8</td>\n",
       "      <td>396.90</td>\n",
       "      <td>9.14</td>\n",
       "      <td>21.6</td>\n",
       "    </tr>\n",
       "    <tr>\n",
       "      <th>2</th>\n",
       "      <td>0.02729</td>\n",
       "      <td>0.0</td>\n",
       "      <td>7.07</td>\n",
       "      <td>0</td>\n",
       "      <td>0.469</td>\n",
       "      <td>7.185</td>\n",
       "      <td>61.1</td>\n",
       "      <td>4.9671</td>\n",
       "      <td>2</td>\n",
       "      <td>242</td>\n",
       "      <td>17.8</td>\n",
       "      <td>392.83</td>\n",
       "      <td>4.03</td>\n",
       "      <td>34.7</td>\n",
       "    </tr>\n",
       "    <tr>\n",
       "      <th>3</th>\n",
       "      <td>0.03237</td>\n",
       "      <td>0.0</td>\n",
       "      <td>2.18</td>\n",
       "      <td>0</td>\n",
       "      <td>0.458</td>\n",
       "      <td>6.998</td>\n",
       "      <td>45.8</td>\n",
       "      <td>6.0622</td>\n",
       "      <td>3</td>\n",
       "      <td>222</td>\n",
       "      <td>18.7</td>\n",
       "      <td>394.63</td>\n",
       "      <td>2.94</td>\n",
       "      <td>33.4</td>\n",
       "    </tr>\n",
       "    <tr>\n",
       "      <th>4</th>\n",
       "      <td>0.06905</td>\n",
       "      <td>0.0</td>\n",
       "      <td>2.18</td>\n",
       "      <td>0</td>\n",
       "      <td>0.458</td>\n",
       "      <td>7.147</td>\n",
       "      <td>54.2</td>\n",
       "      <td>6.0622</td>\n",
       "      <td>3</td>\n",
       "      <td>222</td>\n",
       "      <td>18.7</td>\n",
       "      <td>396.90</td>\n",
       "      <td>5.33</td>\n",
       "      <td>36.2</td>\n",
       "    </tr>\n",
       "  </tbody>\n",
       "</table>\n",
       "</div>"
      ],
      "text/plain": [
       "      crim    zn  indus  chas    nox     rm   age     dis  rad  tax  ptratio  \\\n",
       "0  0.00632  18.0   2.31     0  0.538  6.575  65.2  4.0900    1  296     15.3   \n",
       "1  0.02731   0.0   7.07     0  0.469  6.421  78.9  4.9671    2  242     17.8   \n",
       "2  0.02729   0.0   7.07     0  0.469  7.185  61.1  4.9671    2  242     17.8   \n",
       "3  0.03237   0.0   2.18     0  0.458  6.998  45.8  6.0622    3  222     18.7   \n",
       "4  0.06905   0.0   2.18     0  0.458  7.147  54.2  6.0622    3  222     18.7   \n",
       "\n",
       "        b  lstat  medv  \n",
       "0  396.90   4.98  24.0  \n",
       "1  396.90   9.14  21.6  \n",
       "2  392.83   4.03  34.7  \n",
       "3  394.63   2.94  33.4  \n",
       "4  396.90   5.33  36.2  "
      ]
     },
     "execution_count": 254,
     "metadata": {},
     "output_type": "execute_result"
    }
   ],
   "source": [
    "# download_url(DATASET_URL, '.')\n",
    "df= pd.read_csv('BostonHousing.csv')\n",
    "df.head()"
   ]
  },
  {
   "cell_type": "code",
   "execution_count": 255,
   "metadata": {},
   "outputs": [],
   "source": [
    "inputs = df.drop(columns='medv', axis=1).values\n"
   ]
  },
  {
   "cell_type": "code",
   "execution_count": 256,
   "metadata": {},
   "outputs": [
    {
     "data": {
      "text/plain": [
       "(506, 13)"
      ]
     },
     "execution_count": 256,
     "metadata": {},
     "output_type": "execute_result"
    }
   ],
   "source": [
    "inputs.shape"
   ]
  },
  {
   "cell_type": "code",
   "execution_count": 257,
   "metadata": {},
   "outputs": [
    {
     "data": {
      "text/plain": [
       "(506,)"
      ]
     },
     "execution_count": 257,
     "metadata": {},
     "output_type": "execute_result"
    }
   ],
   "source": [
    "outputs = df['medv'].values\n",
    "outputs.shape"
   ]
  },
  {
   "cell_type": "code",
   "execution_count": 258,
   "metadata": {},
   "outputs": [],
   "source": [
    "tensor_dataset = TensorDataset(torch.tensor(inputs,dtype=torch.float32),torch.tensor(outputs,dtype=torch.float32))"
   ]
  },
  {
   "cell_type": "code",
   "execution_count": 259,
   "metadata": {},
   "outputs": [],
   "source": [
    "train_ds, val_ds = random_split(tensor_dataset,[406,100])"
   ]
  },
  {
   "cell_type": "code",
   "execution_count": 260,
   "metadata": {},
   "outputs": [],
   "source": [
    "batch_size = 64\n",
    "train_dl = DataLoader(train_ds,batch_size,shuffle=True)\n",
    "val_dl = DataLoader(val_ds,batch_size*2)"
   ]
  },
  {
   "cell_type": "code",
   "execution_count": 261,
   "metadata": {},
   "outputs": [],
   "source": [
    "input_size = 13\n",
    "output_size = 1"
   ]
  },
  {
   "cell_type": "code",
   "execution_count": 262,
   "metadata": {},
   "outputs": [],
   "source": [
    "class BostonHouse(nn.Module):\n",
    "    def __init__(self):\n",
    "        super().__init__()\n",
    "        self.linear = nn.Linear(input_size, output_size)\n",
    "    \n",
    "    def forward(self,xb):\n",
    "        out = self.linear(xb)\n",
    "        return out\n",
    "    def training_step(self,batch):\n",
    "        inputs, targets = batch\n",
    "        out = self(inputs)\n",
    "        targets = targets.view_as(out)\n",
    "        loss = F.mse_loss(out, targets)\n",
    "        return loss\n",
    "    def validation_step(self,batch):\n",
    "        inputs,targets = batch\n",
    "        out = self(inputs)\n",
    "        targets = targets.view_as(out)\n",
    "        loss = F.mse_loss(out, targets)\n",
    "        return {'val_loss':loss.detach()}\n",
    "    def validation_epoch_end(self,outputs):\n",
    "        batch_loss = [x['val_loss'] for x in outputs]\n",
    "        epoch_loss = torch.stack(batch_loss).mean()\n",
    "        return {'val_loss':epoch_loss.item()}\n",
    "    def epoch_end(self, epoch, result):\n",
    "        print(\"Epoch [{}], val_loss: {:.4f}\".format(epoch, result['val_loss']))\n",
    "        \n",
    "        \n",
    "        \n",
    "model = BostonHouse()\n",
    "        \n",
    "        "
   ]
  },
  {
   "cell_type": "code",
   "execution_count": 263,
   "metadata": {},
   "outputs": [],
   "source": [
    "def evaluate(model,val_dl):\n",
    "    outputs = [model.validation_step(batch) for batch in val_ds]\n",
    "    return model.validation_epoch_end(outputs)\n"
   ]
  },
  {
   "cell_type": "code",
   "execution_count": 264,
   "metadata": {},
   "outputs": [],
   "source": [
    "def fit( model, train_dl,val_dl,epochs,lr,opt_func=torch.optim.SGD):\n",
    "    optimizer = opt_func(model.parameters(),lr)\n",
    "    history = []\n",
    "    for epoch in range(epochs):\n",
    "        for batch in train_dl:\n",
    "            loss = model.training_step(batch)\n",
    "            loss.backward()\n",
    "            optimizer.step()\n",
    "            optimizer.zero_grad()\n",
    "        \n",
    "        result = evaluate(model, val_dl)\n",
    "        model.epoch_end(epoch,result)\n",
    "        history.append(result)\n",
    "        \n",
    "    return history  \n",
    "            "
   ]
  },
  {
   "cell_type": "code",
   "execution_count": 265,
   "metadata": {},
   "outputs": [
    {
     "data": {
      "text/plain": [
       "{'val_loss': 561.9400634765625}"
      ]
     },
     "execution_count": 265,
     "metadata": {},
     "output_type": "execute_result"
    }
   ],
   "source": [
    "result = evaluate(model,val_dl)\n",
    "result"
   ]
  },
  {
   "cell_type": "code",
   "execution_count": 266,
   "metadata": {},
   "outputs": [
    {
     "name": "stdout",
     "output_type": "stream",
     "text": [
      "Epoch [0], val_loss: 225.9547\n",
      "Epoch [1], val_loss: 190.4413\n",
      "Epoch [2], val_loss: 167.4393\n",
      "Epoch [3], val_loss: 149.9028\n",
      "Epoch [4], val_loss: 138.7521\n",
      "Epoch [5], val_loss: 128.2395\n",
      "Epoch [6], val_loss: 121.7659\n",
      "Epoch [7], val_loss: 117.0241\n",
      "Epoch [8], val_loss: 113.4775\n",
      "Epoch [9], val_loss: 111.1088\n",
      "Epoch [10], val_loss: 109.3380\n",
      "Epoch [11], val_loss: 107.9627\n",
      "Epoch [12], val_loss: 107.0849\n",
      "Epoch [13], val_loss: 106.8334\n",
      "Epoch [14], val_loss: 105.1162\n",
      "Epoch [15], val_loss: 104.5742\n",
      "Epoch [16], val_loss: 105.5060\n",
      "Epoch [17], val_loss: 103.6020\n",
      "Epoch [18], val_loss: 105.2694\n",
      "Epoch [19], val_loss: 102.8467\n",
      "Epoch [20], val_loss: 102.5263\n",
      "Epoch [21], val_loss: 102.5512\n",
      "Epoch [22], val_loss: 102.8687\n",
      "Epoch [23], val_loss: 101.7320\n",
      "Epoch [24], val_loss: 101.6327\n",
      "Epoch [25], val_loss: 100.9530\n",
      "Epoch [26], val_loss: 100.9154\n",
      "Epoch [27], val_loss: 100.5773\n",
      "Epoch [28], val_loss: 100.2275\n",
      "Epoch [29], val_loss: 101.1024\n",
      "Epoch [30], val_loss: 99.6361\n",
      "Epoch [31], val_loss: 99.3464\n",
      "Epoch [32], val_loss: 99.8627\n",
      "Epoch [33], val_loss: 100.2693\n",
      "Epoch [34], val_loss: 98.2993\n",
      "Epoch [35], val_loss: 98.0760\n",
      "Epoch [36], val_loss: 97.8127\n",
      "Epoch [37], val_loss: 97.4923\n",
      "Epoch [38], val_loss: 97.6876\n",
      "Epoch [39], val_loss: 97.1240\n",
      "Epoch [40], val_loss: 96.8038\n",
      "Epoch [41], val_loss: 96.7284\n",
      "Epoch [42], val_loss: 96.2516\n",
      "Epoch [43], val_loss: 96.3016\n",
      "Epoch [44], val_loss: 96.2251\n",
      "Epoch [45], val_loss: 98.4795\n",
      "Epoch [46], val_loss: 95.5884\n",
      "Epoch [47], val_loss: 94.8540\n",
      "Epoch [48], val_loss: 94.8508\n",
      "Epoch [49], val_loss: 94.3784\n",
      "Epoch [50], val_loss: 96.4891\n",
      "Epoch [51], val_loss: 93.8300\n",
      "Epoch [52], val_loss: 93.6281\n",
      "Epoch [53], val_loss: 93.7316\n",
      "Epoch [54], val_loss: 94.0605\n",
      "Epoch [55], val_loss: 96.0224\n",
      "Epoch [56], val_loss: 92.8189\n",
      "Epoch [57], val_loss: 92.4334\n",
      "Epoch [58], val_loss: 93.7694\n",
      "Epoch [59], val_loss: 92.2224\n",
      "Epoch [60], val_loss: 92.2248\n",
      "Epoch [61], val_loss: 92.1447\n",
      "Epoch [62], val_loss: 91.9818\n",
      "Epoch [63], val_loss: 92.2257\n",
      "Epoch [64], val_loss: 91.1295\n",
      "Epoch [65], val_loss: 91.0234\n",
      "Epoch [66], val_loss: 90.8371\n",
      "Epoch [67], val_loss: 90.9054\n",
      "Epoch [68], val_loss: 90.5266\n",
      "Epoch [69], val_loss: 91.0379\n",
      "Epoch [70], val_loss: 90.3027\n",
      "Epoch [71], val_loss: 91.0165\n",
      "Epoch [72], val_loss: 90.7156\n",
      "Epoch [73], val_loss: 90.4666\n",
      "Epoch [74], val_loss: 90.1353\n",
      "Epoch [75], val_loss: 89.6084\n",
      "Epoch [76], val_loss: 89.4790\n",
      "Epoch [77], val_loss: 88.9176\n",
      "Epoch [78], val_loss: 89.0060\n",
      "Epoch [79], val_loss: 88.5381\n",
      "Epoch [80], val_loss: 88.5030\n",
      "Epoch [81], val_loss: 88.4267\n",
      "Epoch [82], val_loss: 88.0258\n",
      "Epoch [83], val_loss: 88.4149\n",
      "Epoch [84], val_loss: 89.6078\n",
      "Epoch [85], val_loss: 87.9562\n",
      "Epoch [86], val_loss: 88.2265\n",
      "Epoch [87], val_loss: 87.4762\n",
      "Epoch [88], val_loss: 87.2169\n",
      "Epoch [89], val_loss: 87.4942\n",
      "Epoch [90], val_loss: 87.8239\n",
      "Epoch [91], val_loss: 86.7202\n",
      "Epoch [92], val_loss: 86.4783\n",
      "Epoch [93], val_loss: 87.6584\n",
      "Epoch [94], val_loss: 87.2751\n",
      "Epoch [95], val_loss: 86.7886\n",
      "Epoch [96], val_loss: 86.9964\n",
      "Epoch [97], val_loss: 86.7197\n",
      "Epoch [98], val_loss: 85.8763\n",
      "Epoch [99], val_loss: 86.1318\n"
     ]
    }
   ],
   "source": [
    "history = fit(model, train_dl,val_dl,lr=5e-7,epochs=100)"
   ]
  },
  {
   "cell_type": "code",
   "execution_count": 268,
   "metadata": {},
   "outputs": [
    {
     "name": "stdout",
     "output_type": "stream",
     "text": [
      "Epoch [0], val_loss: 85.4969\n",
      "Epoch [1], val_loss: 85.2994\n",
      "Epoch [2], val_loss: 85.4768\n",
      "Epoch [3], val_loss: 85.9689\n",
      "Epoch [4], val_loss: 85.0395\n",
      "Epoch [5], val_loss: 85.3048\n",
      "Epoch [6], val_loss: 85.1346\n",
      "Epoch [7], val_loss: 84.7113\n",
      "Epoch [8], val_loss: 85.0121\n",
      "Epoch [9], val_loss: 84.8087\n",
      "Epoch [10], val_loss: 84.6671\n",
      "Epoch [11], val_loss: 84.2630\n",
      "Epoch [12], val_loss: 84.2438\n",
      "Epoch [13], val_loss: 84.2132\n",
      "Epoch [14], val_loss: 84.0298\n",
      "Epoch [15], val_loss: 84.1555\n",
      "Epoch [16], val_loss: 83.7876\n",
      "Epoch [17], val_loss: 83.7537\n",
      "Epoch [18], val_loss: 84.6485\n",
      "Epoch [19], val_loss: 83.9764\n",
      "Epoch [20], val_loss: 83.7916\n",
      "Epoch [21], val_loss: 83.7383\n",
      "Epoch [22], val_loss: 83.4302\n",
      "Epoch [23], val_loss: 83.7811\n",
      "Epoch [24], val_loss: 83.1280\n",
      "Epoch [25], val_loss: 83.2138\n",
      "Epoch [26], val_loss: 82.9009\n",
      "Epoch [27], val_loss: 82.9610\n",
      "Epoch [28], val_loss: 82.7182\n",
      "Epoch [29], val_loss: 83.4632\n",
      "Epoch [30], val_loss: 82.9142\n",
      "Epoch [31], val_loss: 82.7968\n",
      "Epoch [32], val_loss: 82.4711\n",
      "Epoch [33], val_loss: 82.4848\n",
      "Epoch [34], val_loss: 82.3995\n",
      "Epoch [35], val_loss: 82.5038\n",
      "Epoch [36], val_loss: 82.1578\n",
      "Epoch [37], val_loss: 82.1812\n",
      "Epoch [38], val_loss: 82.0296\n",
      "Epoch [39], val_loss: 81.8463\n",
      "Epoch [40], val_loss: 82.4243\n",
      "Epoch [41], val_loss: 82.0385\n",
      "Epoch [42], val_loss: 81.8226\n",
      "Epoch [43], val_loss: 81.5380\n",
      "Epoch [44], val_loss: 81.5401\n",
      "Epoch [45], val_loss: 81.5455\n",
      "Epoch [46], val_loss: 82.0277\n",
      "Epoch [47], val_loss: 81.5093\n",
      "Epoch [48], val_loss: 81.2856\n",
      "Epoch [49], val_loss: 82.0632\n",
      "Epoch [50], val_loss: 81.9860\n",
      "Epoch [51], val_loss: 81.4773\n",
      "Epoch [52], val_loss: 81.1128\n",
      "Epoch [53], val_loss: 80.9910\n",
      "Epoch [54], val_loss: 81.6775\n",
      "Epoch [55], val_loss: 80.9357\n",
      "Epoch [56], val_loss: 80.7517\n",
      "Epoch [57], val_loss: 80.9161\n",
      "Epoch [58], val_loss: 80.7379\n",
      "Epoch [59], val_loss: 80.9275\n",
      "Epoch [60], val_loss: 81.8255\n",
      "Epoch [61], val_loss: 82.5836\n",
      "Epoch [62], val_loss: 81.0881\n",
      "Epoch [63], val_loss: 80.5853\n",
      "Epoch [64], val_loss: 80.5573\n",
      "Epoch [65], val_loss: 80.4655\n",
      "Epoch [66], val_loss: 80.1716\n",
      "Epoch [67], val_loss: 80.1767\n",
      "Epoch [68], val_loss: 80.0580\n",
      "Epoch [69], val_loss: 80.5451\n",
      "Epoch [70], val_loss: 80.0038\n",
      "Epoch [71], val_loss: 80.2222\n",
      "Epoch [72], val_loss: 79.9171\n",
      "Epoch [73], val_loss: 79.8711\n",
      "Epoch [74], val_loss: 79.8456\n",
      "Epoch [75], val_loss: 81.1691\n",
      "Epoch [76], val_loss: 80.2273\n",
      "Epoch [77], val_loss: 80.2648\n",
      "Epoch [78], val_loss: 79.6495\n",
      "Epoch [79], val_loss: 79.5661\n",
      "Epoch [80], val_loss: 79.6284\n",
      "Epoch [81], val_loss: 80.7345\n",
      "Epoch [82], val_loss: 81.2593\n",
      "Epoch [83], val_loss: 79.4486\n",
      "Epoch [84], val_loss: 80.5263\n",
      "Epoch [85], val_loss: 79.6742\n",
      "Epoch [86], val_loss: 79.5474\n",
      "Epoch [87], val_loss: 80.1284\n",
      "Epoch [88], val_loss: 79.2476\n",
      "Epoch [89], val_loss: 79.8239\n",
      "Epoch [90], val_loss: 79.3912\n",
      "Epoch [91], val_loss: 79.2234\n",
      "Epoch [92], val_loss: 79.7273\n",
      "Epoch [93], val_loss: 79.1636\n",
      "Epoch [94], val_loss: 79.0818\n",
      "Epoch [95], val_loss: 78.9723\n",
      "Epoch [96], val_loss: 79.5337\n",
      "Epoch [97], val_loss: 78.8719\n",
      "Epoch [98], val_loss: 79.3289\n",
      "Epoch [99], val_loss: 80.1766\n"
     ]
    }
   ],
   "source": [
    "history2 = fit(model, train_dl,val_dl,lr=5e-7,epochs=100)"
   ]
  },
  {
   "cell_type": "code",
   "execution_count": 267,
   "metadata": {},
   "outputs": [
    {
     "data": {
      "image/png": "[encoded data removed]",
      "text/plain": [
       "<Figure size 640x480 with 1 Axes>"
      ]
     },
     "metadata": {},
     "output_type": "display_data"
    }
   ],
   "source": [
    "losses = [r['val_loss'] for r in [result] + history]\n",
    "plt.plot(losses, '-x')\n",
    "plt.xlabel('epoch')\n",
    "plt.ylabel('val_loss')\n",
    "plt.title('val_loss vs. epochs');"
   ]
  },
  {
   "cell_type": "code",
   "execution_count": null,
   "metadata": {},
   "outputs": [],
   "source": [
    "torch.save(model.state_dict(), 'housing-linear.pth')"
   ]
  }
 ],
 "metadata": {
  "kernelspec": {
   "display_name": "Python 3",
   "language": "python",
   "name": "python3"
  },
  "language_info": {
   "codemirror_mode": {
    "name": "ipython",
    "version": 3
   },
   "file_extension": ".py",
   "mimetype": "text/x-python",
   "name": "python",
   "nbconvert_exporter": "python",
   "pygments_lexer": "ipython3",
   "version": "3.10.0"
  }
 },
 "nbformat": 4,
 "nbformat_minor": 2
}
